{
 "cells": [
  {
   "cell_type": "markdown",
   "metadata": {},
   "source": [
    "# Project Megaline Customers for Plan Upgrades"
   ]
  },
  {
   "cell_type": "markdown",
   "metadata": {},
   "source": [
    "### The goal of our project is to use customer plan information from Smart and Ultimate customers who have switched plans. Then various data elements describing their usage behaviors and apply them to predict which plans may suit them best."
   ]
  },
  {
   "cell_type": "code",
   "execution_count": 51,
   "metadata": {},
   "outputs": [],
   "source": [
    "#!pip install scikit-learn\n",
    "#!pip install joblib"
   ]
  },
  {
   "cell_type": "code",
   "execution_count": 52,
   "metadata": {},
   "outputs": [],
   "source": [
    "import pandas as pd \n",
    "import numpy as np\n",
    "from sklearn.model_selection import train_test_split\n",
    "from sklearn.metrics import accuracy_score\n",
    "from sklearn.metrics import mean_squared_error\n",
    "from sklearn.tree import DecisionTreeRegressor\n",
    "from sklearn.linear_model import LinearRegression\n",
    "from sklearn.ensemble import RandomForestRegressor"
   ]
  },
  {
   "cell_type": "code",
   "execution_count": 53,
   "metadata": {},
   "outputs": [],
   "source": [
    "url = 'https://practicum-content.s3.us-west-1.amazonaws.com/datasets/users_behavior.csv'\n",
    "df = pd.read_csv(url)"
   ]
  },
  {
   "cell_type": "code",
   "execution_count": 54,
   "metadata": {},
   "outputs": [
    {
     "name": "stdout",
     "output_type": "stream",
     "text": [
      "<class 'pandas.core.frame.DataFrame'>\n",
      "RangeIndex: 3214 entries, 0 to 3213\n",
      "Data columns (total 5 columns):\n",
      " #   Column    Non-Null Count  Dtype  \n",
      "---  ------    --------------  -----  \n",
      " 0   calls     3214 non-null   float64\n",
      " 1   minutes   3214 non-null   float64\n",
      " 2   messages  3214 non-null   float64\n",
      " 3   mb_used   3214 non-null   float64\n",
      " 4   is_ultra  3214 non-null   int64  \n",
      "dtypes: float64(4), int64(1)\n",
      "memory usage: 125.7 KB\n"
     ]
    },
    {
     "data": {
      "text/plain": [
       "None"
      ]
     },
     "metadata": {},
     "output_type": "display_data"
    },
    {
     "data": {
      "text/html": [
       "<div>\n",
       "<style scoped>\n",
       "    .dataframe tbody tr th:only-of-type {\n",
       "        vertical-align: middle;\n",
       "    }\n",
       "\n",
       "    .dataframe tbody tr th {\n",
       "        vertical-align: top;\n",
       "    }\n",
       "\n",
       "    .dataframe thead th {\n",
       "        text-align: right;\n",
       "    }\n",
       "</style>\n",
       "<table border=\"1\" class=\"dataframe\">\n",
       "  <thead>\n",
       "    <tr style=\"text-align: right;\">\n",
       "      <th></th>\n",
       "      <th>calls</th>\n",
       "      <th>minutes</th>\n",
       "      <th>messages</th>\n",
       "      <th>mb_used</th>\n",
       "      <th>is_ultra</th>\n",
       "    </tr>\n",
       "  </thead>\n",
       "  <tbody>\n",
       "    <tr>\n",
       "      <th>count</th>\n",
       "      <td>3214.000000</td>\n",
       "      <td>3214.000000</td>\n",
       "      <td>3214.000000</td>\n",
       "      <td>3214.000000</td>\n",
       "      <td>3214.000000</td>\n",
       "    </tr>\n",
       "    <tr>\n",
       "      <th>mean</th>\n",
       "      <td>63.038892</td>\n",
       "      <td>438.208787</td>\n",
       "      <td>38.281269</td>\n",
       "      <td>17207.673836</td>\n",
       "      <td>0.306472</td>\n",
       "    </tr>\n",
       "    <tr>\n",
       "      <th>std</th>\n",
       "      <td>33.236368</td>\n",
       "      <td>234.569872</td>\n",
       "      <td>36.148326</td>\n",
       "      <td>7570.968246</td>\n",
       "      <td>0.461100</td>\n",
       "    </tr>\n",
       "    <tr>\n",
       "      <th>min</th>\n",
       "      <td>0.000000</td>\n",
       "      <td>0.000000</td>\n",
       "      <td>0.000000</td>\n",
       "      <td>0.000000</td>\n",
       "      <td>0.000000</td>\n",
       "    </tr>\n",
       "    <tr>\n",
       "      <th>25%</th>\n",
       "      <td>40.000000</td>\n",
       "      <td>274.575000</td>\n",
       "      <td>9.000000</td>\n",
       "      <td>12491.902500</td>\n",
       "      <td>0.000000</td>\n",
       "    </tr>\n",
       "    <tr>\n",
       "      <th>50%</th>\n",
       "      <td>62.000000</td>\n",
       "      <td>430.600000</td>\n",
       "      <td>30.000000</td>\n",
       "      <td>16943.235000</td>\n",
       "      <td>0.000000</td>\n",
       "    </tr>\n",
       "    <tr>\n",
       "      <th>75%</th>\n",
       "      <td>82.000000</td>\n",
       "      <td>571.927500</td>\n",
       "      <td>57.000000</td>\n",
       "      <td>21424.700000</td>\n",
       "      <td>1.000000</td>\n",
       "    </tr>\n",
       "    <tr>\n",
       "      <th>max</th>\n",
       "      <td>244.000000</td>\n",
       "      <td>1632.060000</td>\n",
       "      <td>224.000000</td>\n",
       "      <td>49745.730000</td>\n",
       "      <td>1.000000</td>\n",
       "    </tr>\n",
       "  </tbody>\n",
       "</table>\n",
       "</div>"
      ],
      "text/plain": [
       "             calls      minutes     messages       mb_used     is_ultra\n",
       "count  3214.000000  3214.000000  3214.000000   3214.000000  3214.000000\n",
       "mean     63.038892   438.208787    38.281269  17207.673836     0.306472\n",
       "std      33.236368   234.569872    36.148326   7570.968246     0.461100\n",
       "min       0.000000     0.000000     0.000000      0.000000     0.000000\n",
       "25%      40.000000   274.575000     9.000000  12491.902500     0.000000\n",
       "50%      62.000000   430.600000    30.000000  16943.235000     0.000000\n",
       "75%      82.000000   571.927500    57.000000  21424.700000     1.000000\n",
       "max     244.000000  1632.060000   224.000000  49745.730000     1.000000"
      ]
     },
     "metadata": {},
     "output_type": "display_data"
    }
   ],
   "source": [
    "display(df.info())  \n",
    "display(df.describe()) "
   ]
  },
  {
   "cell_type": "code",
   "execution_count": 55,
   "metadata": {},
   "outputs": [
    {
     "name": "stdout",
     "output_type": "stream",
     "text": [
      "Number of rows where all columns have a value of zero: 0\n"
     ]
    }
   ],
   "source": [
    "# check all min values are not 0\n",
    "zero_count = df[(df[['calls', 'minutes', 'messages', 'mb_used']] == 0).all(axis=1)].shape[0]\n",
    "\n",
    "print(\"Number of rows where all columns have a value of zero:\", zero_count)"
   ]
  },
  {
   "cell_type": "code",
   "execution_count": 56,
   "metadata": {},
   "outputs": [
    {
     "name": "stdout",
     "output_type": "stream",
     "text": [
      "Number of duplicate rows: 0\n"
     ]
    }
   ],
   "source": [
    "# count for any duplicates\n",
    "num_duplicates = df.duplicated().sum()\n",
    "# print number of duplicate rows \n",
    "print(f\"Number of duplicate rows: {num_duplicates}\")"
   ]
  },
  {
   "cell_type": "markdown",
   "metadata": {},
   "source": [
    "### All data conforms to accepted stadards and no duplicates values were found. "
   ]
  },
  {
   "cell_type": "code",
   "execution_count": 57,
   "metadata": {},
   "outputs": [],
   "source": [
    "# split the data into features and target \n",
    "features = df[['calls', 'minutes', 'messages', 'mb_used']]\n",
    "target = df['is_ultra']"
   ]
  },
  {
   "cell_type": "code",
   "execution_count": 58,
   "metadata": {},
   "outputs": [
    {
     "name": "stdout",
     "output_type": "stream",
     "text": [
      "Training set size: (1928, 4)\n",
      "Validation set size: (643, 4)\n",
      "Test set size: (643, 4)\n"
     ]
    }
   ],
   "source": [
    "# split the data into training (60%), validation (20%), and test (20%) sets\n",
    "features_train, features_temp, target_train, target_temp = train_test_split(features, target, test_size=0.4)\n",
    "features_valid, features_test, target_valid, target_test = train_test_split(features_temp, target_temp, test_size=0.5)\n",
    "\n",
    "print(\"Training set size:\", features_train.shape)\n",
    "print(\"Validation set size:\", features_valid.shape)\n",
    "print(\"Test set size:\", features_test.shape)"
   ]
  },
  {
   "cell_type": "markdown",
   "metadata": {},
   "source": [
    "### The ideal ratio when splitting source data into three parts is 3:1:1 for training, validation, and testing. This leaves us with 1928 records for training and 643 records for validation and testing."
   ]
  },
  {
   "cell_type": "markdown",
   "metadata": {},
   "source": [
    "## Decision Tree Regression"
   ]
  },
  {
   "cell_type": "code",
   "execution_count": 59,
   "metadata": {},
   "outputs": [
    {
     "name": "stdout",
     "output_type": "stream",
     "text": [
      "Best validation RMSE: 0.4042780303405697 with max_depth: 5\n"
     ]
    }
   ],
   "source": [
    "# initialize decision tree model\n",
    "best_model_tree = None\n",
    "best_result_tree = 1\n",
    "best_depth_tree = 0\n",
    "\n",
    "# loop to iterate over max_depth\n",
    "for depth in range(1, 11):\n",
    "    model = DecisionTreeRegressor(random_state=12345, max_depth=depth)\n",
    "    model.fit(features_train, target_train)\n",
    "    predictions_valid = model.predict(features_valid)\n",
    "    rmse = np.sqrt(mean_squared_error(target_valid, predictions_valid))\n",
    "    if rmse < best_result_tree:\n",
    "        best_model_tree = model\n",
    "        best_result_tree = rmse\n",
    "        best_depth_tree = depth\n",
    "\n",
    "print(f\"Best validation RMSE: {best_result_tree} with max_depth: {best_depth_tree}\")\n",
    "\n",
    "# evaluate the best model on the test set\n",
    "test_predictions_tree = best_model_tree.predict(features_test)\n",
    "test_rmse_tree = np.sqrt(mean_squared_error(target_test, test_predictions_tree))\n",
    "#print(f\"RMSE of the Decision Tree model on the test set: {test_rmse_tree}\")"
   ]
  },
  {
   "cell_type": "markdown",
   "metadata": {},
   "source": [
    "## Linear Regression"
   ]
  },
  {
   "cell_type": "code",
   "execution_count": 60,
   "metadata": {},
   "outputs": [
    {
     "name": "stdout",
     "output_type": "stream",
     "text": [
      "Best validation RMSE: 0.4454561808852696\n"
     ]
    }
   ],
   "source": [
    "# initialize the linear regression model\n",
    "model = LinearRegression()\n",
    "model.fit(features_train, target_train)\n",
    "predictions_valid = model.predict(features_valid)\n",
    "\n",
    "# calculate the RMSE\n",
    "rmse = np.sqrt(mean_squared_error(target_valid, predictions_valid))\n",
    "\n",
    "print(\"Best validation RMSE:\", rmse)\n",
    "\n",
    "# evaluate the best model on the test set\n",
    "test_predictions_linear = model.predict(features_test)\n",
    "test_rmse_linear = np.sqrt(mean_squared_error(target_test, test_predictions_linear))\n",
    "#print(\"RMSE of the Linear Regression model on the test set:\", test_rmse_linear)"
   ]
  },
  {
   "cell_type": "markdown",
   "metadata": {},
   "source": [
    "## Random Forest Regression"
   ]
  },
  {
   "cell_type": "code",
   "execution_count": 61,
   "metadata": {},
   "outputs": [
    {
     "name": "stdout",
     "output_type": "stream",
     "text": [
      "Best validation RMSE: 0.37574436793812704 with n_estimators: 10 and max_depth: 9\n"
     ]
    }
   ],
   "source": [
    "\n",
    "# initialize random forest\n",
    "best_model_tree = None\n",
    "best_result_forest = 1\n",
    "best_est_forest = 0\n",
    "best_depth = 0\n",
    "\n",
    "# loop to iterate over n_estimators and max_depth\n",
    "for est in range(5, 51, 5):\n",
    "    for depth in range(1, 11):\n",
    "        model = RandomForestRegressor(random_state=12345, n_estimators=est, max_depth=depth)\n",
    "        model.fit(features_train, target_train)\n",
    "        predictions_valid = model.predict(features_valid)\n",
    "        rmse = np.sqrt(mean_squared_error(target_valid, predictions_valid))\n",
    "        if rmse < best_result_forest:\n",
    "            best_model_forest = model\n",
    "            best_result_forest = rmse\n",
    "            best_est_forest = est\n",
    "            best_depth = depth\n",
    "\n",
    "print(f\"Best validation RMSE: {best_result_forest} with n_estimators: {best_est_forest} and max_depth: {best_depth}\")\n",
    "\n",
    "# evaluate the best model on the test set\n",
    "test_predictions_forest = best_model_forest.predict(features_test)\n",
    "test_rmse_forest = np.sqrt(mean_squared_error(target_test, test_predictions_forest))\n",
    "#print(f\"RMSE of the Random Forest Regression model on the test set: {test_rmse}\")\n"
   ]
  },
  {
   "cell_type": "markdown",
   "metadata": {},
   "source": [
    "## Compare each model against the Test Data Set"
   ]
  },
  {
   "cell_type": "code",
   "execution_count": 62,
   "metadata": {},
   "outputs": [
    {
     "name": "stdout",
     "output_type": "stream",
     "text": [
      "RMSE of the Decision Tree model on the test set: 0.40127475304446336\n",
      "RMSE of the Linear Regression model on the test set: 0.44408053555898447\n",
      "RMSE of the Random Forest Regression model on the test set: 0.3887451026869719\n"
     ]
    }
   ],
   "source": [
    "# Evaluate the best model\n",
    "print(f\"RMSE of the Decision Tree model on the test set: {test_rmse_tree}\")\n",
    "print(\"RMSE of the Linear Regression model on the test set:\", test_rmse_linear)\n",
    "print(f\"RMSE of the Random Forest Regression model on the test set: {test_rmse_forest}\")"
   ]
  },
  {
   "cell_type": "markdown",
   "metadata": {},
   "source": [
    "### In both our validation and testing the Random Forest model has the highest accuracy base on RMSE values.  We do see the Decision tree drop below 40 percent against our test data, howest it's still not as accurate or perform consistently as well at the Random Forest model. "
   ]
  },
  {
   "cell_type": "markdown",
   "metadata": {},
   "source": [
    "# Reccomendation "
   ]
  },
  {
   "cell_type": "markdown",
   "metadata": {},
   "source": [
    "### Given the limits placed on our Random Forest estimation range, it only took several seconds longer to perform the desired calculations.  This model is the preferred approach to calculate which users might be interested in upgrading their plan to Ultimate.  As we learned in our first project, upgrading customers to the Ultimate plan should also generates more revenue for the Megaline company."
   ]
  },
  {
   "cell_type": "markdown",
   "metadata": {},
   "source": [
    "#### All project files are available at Github : https://github.com/Tom-Kinstle/sprint_7"
   ]
  }
 ],
 "metadata": {
  "kernelspec": {
   "display_name": "Python 3",
   "language": "python",
   "name": "python3"
  },
  "language_info": {
   "codemirror_mode": {
    "name": "ipython",
    "version": 3
   },
   "file_extension": ".py",
   "mimetype": "text/x-python",
   "name": "python",
   "nbconvert_exporter": "python",
   "pygments_lexer": "ipython3",
   "version": "3.11.9"
  }
 },
 "nbformat": 4,
 "nbformat_minor": 2
}
